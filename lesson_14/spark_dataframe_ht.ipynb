{
 "cells": [
  {
   "cell_type": "code",
   "execution_count": 1,
   "metadata": {
    "is_executing": true
   },
   "outputs": [],
   "source": [
    "from pyspark.sql import SparkSession, functions as F, types as T\n",
    "from pyspark.sql.types import *"
   ]
  },
  {
   "cell_type": "code",
   "execution_count": 2,
   "metadata": {
    "collapsed": false,
    "jupyter": {
     "outputs_hidden": false
    },
    "pycharm": {
     "is_executing": true
    }
   },
   "outputs": [],
   "source": [
    "spark = SparkSession.builder.master('local[*]').getOrCreate()"
   ]
  },
  {
   "cell_type": "code",
   "execution_count": 4,
   "metadata": {
    "collapsed": false,
    "jupyter": {
     "outputs_hidden": false
    }
   },
   "outputs": [
    {
     "name": "stdout",
     "output_type": "stream",
     "text": [
      "3.4.1\n"
     ]
    }
   ],
   "source": [
    "print(spark.version)"
   ]
  },
  {
   "cell_type": "code",
   "execution_count": 5,
   "metadata": {
    "collapsed": false,
    "jupyter": {
     "outputs_hidden": false
    }
   },
   "outputs": [],
   "source": [
    "actor_df = spark.read.csv('./data/actor.csv', header=True, inferSchema=True)\n",
    "address_df = spark.read.csv('./data/address.csv', header=True, inferSchema=True)\n",
    "category_df = spark.read.csv('./data/category.csv', header=True, inferSchema=True)\n",
    "city_df = spark.read.csv('./data/city.csv', header=True, inferSchema=True)\n",
    "country_df = spark.read.csv('./data/country.csv', header=True, inferSchema=True)\n",
    "customer_df = spark.read.csv('./data/customer.csv', header=True, inferSchema=True)\n",
    "film_df = spark.read.csv('./data/film.csv', header=True, inferSchema=True)\n",
    "film_actor_df = spark.read.csv('./data/film_actor.csv', header=True, inferSchema=True)\n",
    "film_category_df = spark.read.csv('./data/film_category.csv', header=True, inferSchema=True)\n",
    "inventory_df = spark.read.csv('./data/inventory.csv', header=True, inferSchema=True)\n",
    "language_df = spark.read.csv('./data/language.csv', header=True, inferSchema=True)\n",
    "payment_df = spark.read.csv('./data/payment.csv', header=True, inferSchema=True)\n",
    "rental_df = spark.read.csv('./data/rental.csv', header=True, inferSchema=True)\n",
    "staff_df = spark.read.csv('./data/staff.csv', header=True, inferSchema=True)\n",
    "store_df = spark.read.csv('./data/store.csv', header=True, inferSchema=True)"
   ]
  },
  {
   "cell_type": "markdown",
   "metadata": {
    "collapsed": false,
    "jupyter": {
     "outputs_hidden": false
    }
   },
   "source": [
    "# Домашнє завдання на тему Spark SQL\n",
    "\n",
    "Задачі з домашнього завдання на SQL потрібно розвʼязати за допомогою Spark SQL DataFrame API.\n",
    "\n",
    "- Дампи таблиць знаходяться в папці `data`. Датафрейми таблиць вже створені в клітинці вище.\n",
    "- Можете створювати стільки нових клітинок, скільки вам необхідно.\n",
    "- Розвʼязок кожної задачі має бути відображений в самому файлі (використати метод `.show()`)\n",
    "- код має бути оформлений у відповідності із одним із стилем, показаним лектором на занятті 13.\n",
    "\n",
    "**Увага!**\n",
    "Використовувати мову запитів SQL безпосередньо забороняється, потрібно використовувати виключно DataFrame API!\n"
   ]
  },
  {
   "cell_type": "markdown",
   "metadata": {
    "collapsed": false,
    "jupyter": {
     "outputs_hidden": false
    }
   },
   "source": [
    "1.\n",
    "Вивести кількість фільмів в кожній категорії.\n",
    "Результат відсортувати за спаданням."
   ]
  },
  {
   "cell_type": "code",
   "execution_count": 19,
   "metadata": {
    "collapsed": false,
    "jupyter": {
     "outputs_hidden": false
    }
   },
   "outputs": [
    {
     "name": "stdout",
     "output_type": "stream",
     "text": [
      "+-----------+-----+\n",
      "|       name|count|\n",
      "+-----------+-----+\n",
      "|     Sports|   74|\n",
      "|    Foreign|   73|\n",
      "|     Family|   69|\n",
      "|Documentary|   68|\n",
      "|  Animation|   66|\n",
      "|     Action|   64|\n",
      "|        New|   63|\n",
      "|      Drama|   62|\n",
      "|      Games|   61|\n",
      "|     Sci-Fi|   61|\n",
      "|   Children|   60|\n",
      "|     Comedy|   58|\n",
      "|     Travel|   57|\n",
      "|   Classics|   57|\n",
      "|     Horror|   56|\n",
      "|      Music|   51|\n",
      "+-----------+-----+\n",
      "\n"
     ]
    }
   ],
   "source": [
    "film_cat_join = film_category_df.join(film_df, on=\"film_id\", how=\"inner\")\n",
    "film_cat_name = category_df.join(film_cat_join, on=\"category_id\", how=\"inner\")\n",
    "film_cat = film_cat_name.groupBy(\"name\").count()\n",
    "film_cat.orderBy(\"count\",ascending=False).show()"
   ]
  },
  {
   "cell_type": "markdown",
   "metadata": {
    "collapsed": false,
    "jupyter": {
     "outputs_hidden": false
    }
   },
   "source": [
    "2.\n",
    "Вивести 10 акторів, чиї фільми брали на прокат найбільше.\n",
    "Результат відсортувати за спаданням."
   ]
  },
  {
   "cell_type": "code",
   "execution_count": 89,
   "metadata": {
    "collapsed": false,
    "jupyter": {
     "outputs_hidden": false
    }
   },
   "outputs": [
    {
     "name": "stdout",
     "output_type": "stream",
     "text": [
      "+--------+-----+----------+-----------+-------------------+\n",
      "|actor_id|count|first_name|  last_name|        last_update|\n",
      "+--------+-----+----------+-----------+-------------------+\n",
      "|     107|  214|      GINA|  DEGENERES|2022-02-15 11:34:33|\n",
      "|     181|  200|   MATTHEW|     CARREY|2022-02-15 11:34:33|\n",
      "|     198|  192|      MARY|     KEITEL|2022-02-15 11:34:33|\n",
      "|     102|  188|    WALTER|       TORN|2022-02-15 11:34:33|\n",
      "|     144|  184|    ANGELA|WITHERSPOON|2022-02-15 11:34:33|\n",
      "|     150|  178|     JAYNE|      NOLTE|2022-02-15 11:34:33|\n",
      "|      37|  177|       VAL|     BOLGER|2022-02-15 11:34:33|\n",
      "|      23|  175|    SANDRA|     KILMER|2022-02-15 11:34:33|\n",
      "|      60|  170|     HENRY|      BERRY|2022-02-15 11:34:33|\n",
      "|     108|  169|    WARREN|      NOLTE|2022-02-15 11:34:33|\n",
      "+--------+-----+----------+-----------+-------------------+\n",
      "only showing top 10 rows\n",
      "\n"
     ]
    }
   ],
   "source": [
    "film_acvt = film_df.join(film_actor_df, on=\"film_id\", how=\"left\").join(actor_df, on=\"actor_id\", how=\"inner\")\n",
    "film_acvt = film_acvt.join(inventory_df, on=\"film_id\", how=\"left\")\n",
    "film_acvt.groupBy(\"actor_id\").count().join(actor_df, on=\"actor_id\", how=\"inner\").orderBy(\"count\",ascending=False).show(10)"
   ]
  },
  {
   "cell_type": "markdown",
   "metadata": {
    "collapsed": false,
    "jupyter": {
     "outputs_hidden": false
    }
   },
   "source": [
    "3.\n",
    "Вивести категорія фільмів, на яку було витрачено найбільше грошей\n",
    "в прокаті"
   ]
  },
  {
   "cell_type": "code",
   "execution_count": 88,
   "metadata": {
    "collapsed": false,
    "jupyter": {
     "outputs_hidden": false
    }
   },
   "outputs": [
    {
     "name": "stdout",
     "output_type": "stream",
     "text": [
      "+------+-----------------+\n",
      "|  name|      sum(amount)|\n",
      "+------+-----------------+\n",
      "|Sports|5314.209999999848|\n",
      "+------+-----------------+\n",
      "only showing top 1 row\n",
      "\n"
     ]
    }
   ],
   "source": [
    "film_rent = rental_df.join(payment_df, on=\"rental_id\", how=\"inner\").join(inventory_df, on=\"inventory_id\", how=\"left\")\n",
    "film_rent = film_rent.join(film_category_df, on=\"film_id\", how=\"left\").join(category_df,on=\"category_id\",how=\"left\")\n",
    "category_rent = film_rent.select(\"category_id\",\"amount\")\n",
    "film_rent = film_rent.groupBy(\"category_id\").sum(\"amount\").join(category_df,on=\"category_id\",how=\"inner\")\n",
    "film_rent = film_rent.sort(\"sum(amount)\",ascending=False).select(\"name\",\"sum(amount)\").show(1)"
   ]
  },
  {
   "cell_type": "markdown",
   "metadata": {
    "collapsed": false,
    "jupyter": {
     "outputs_hidden": false
    }
   },
   "source": [
    "4.\n",
    "Вивести назви фільмів, яких не має в inventory."
   ]
  },
  {
   "cell_type": "code",
   "execution_count": 70,
   "metadata": {
    "collapsed": false,
    "jupyter": {
     "outputs_hidden": false
    }
   },
   "outputs": [
    {
     "name": "stdout",
     "output_type": "stream",
     "text": [
      "+--------------------+--------------------+\n",
      "|               title|         description|\n",
      "+--------------------+--------------------+\n",
      "|      ALICE FANTASIA|A Emotional Drama...|\n",
      "|         APOLLO TEEN|A Action-Packed R...|\n",
      "|      ARGONAUTS TOWN|A Emotional Epist...|\n",
      "|       ARK RIDGEMONT|A Beautiful Yarn ...|\n",
      "|ARSENIC INDEPENDENCE|A Fanciful Docume...|\n",
      "|   BOONDOCK BALLROOM|A Fateful Panoram...|\n",
      "|       BUTCH PANTHER|A Lacklusture Yar...|\n",
      "|       CATCH AMISTAD|A Boring Reflecti...|\n",
      "| CHINATOWN GLADIATOR|A Brilliant Panor...|\n",
      "|      CHOCOLATE DUCK|A Unbelieveable S...|\n",
      "|COMMANDMENTS EXPRESS|A Fanciful Saga o...|\n",
      "|    CROSSING DIVORCE|A Beautiful Docum...|\n",
      "|     CROWDS TELEMARK|A Intrepid Docume...|\n",
      "|    CRYSTAL BREAKING|A Fast-Paced Char...|\n",
      "|          DAZED PUNK|A Action-Packed S...|\n",
      "|DELIVERANCE MULHO...|A Astounding Saga...|\n",
      "|   FIREHOUSE VIETNAM|A Awe-Inspiring C...|\n",
      "|       FLOATS GARDEN|A Action-Packed E...|\n",
      "|FRANKENSTEIN STRA...|A Insightful Char...|\n",
      "|  GLADIATOR WESTWARD|A Astounding Refl...|\n",
      "+--------------------+--------------------+\n",
      "only showing top 20 rows\n",
      "\n"
     ]
    }
   ],
   "source": [
    "films_inventory = film_category_df.join(inventory_df, on=\"film_id\", how=\"left\")\n",
    "films_inventory.groupBy('inventory_id','film_id').count()\n",
    "films_not_in_inventory = films_inventory.where(films_inventory.inventory_id.isNull())\n",
    "films_not_in_inventory.join(film_df,on=\"film_id\",how=\"inner\").select(\"title\",\"description\").show()"
   ]
  },
  {
   "cell_type": "markdown",
   "metadata": {
    "collapsed": false,
    "jupyter": {
     "outputs_hidden": false
    }
   },
   "source": [
    "5.\n",
    "Вивести топ 3 актори, які найбільше зʼявлялись в категорії фільмів “Children”"
   ]
  },
  {
   "cell_type": "code",
   "execution_count": 87,
   "metadata": {
    "collapsed": false,
    "jupyter": {
     "outputs_hidden": false
    },
    "pycharm": {
     "is_executing": true
    }
   },
   "outputs": [
    {
     "name": "stdout",
     "output_type": "stream",
     "text": [
      "+--------+-----+----------+---------+-------------------+\n",
      "|actor_id|count|first_name|last_name|        last_update|\n",
      "+--------+-----+----------+---------+-------------------+\n",
      "|      17|    7|     HELEN|   VOIGHT|2022-02-15 11:34:33|\n",
      "|      66|    5|      MARY|    TANDY|2022-02-15 11:34:33|\n",
      "|     140|    5|    WHOOPI|     HURT|2022-02-15 11:34:33|\n",
      "+--------+-----+----------+---------+-------------------+\n",
      "only showing top 3 rows\n",
      "\n"
     ]
    }
   ],
   "source": [
    "childrens_films = category_df.filter(category_df.name == \"Children\").join(film_category_df,on=\"category_id\",how=\"inner\").select(\"category_id\",\"name\",\"film_id\")\n",
    "childrens_actor = childrens_films.join(film_actor_df,on=\"film_id\",how=\"left\")\n",
    "result_actor = childrens_actor.groupBy('actor_id').count().join(actor_df,on=\"actor_id\",how=\"inner\")\n",
    "result_actor.sort(\"count\",ascending=False).show(3)\n"
   ]
  },
  {
   "cell_type": "code",
   "execution_count": null,
   "metadata": {
    "collapsed": false,
    "jupyter": {
     "outputs_hidden": false
    }
   },
   "outputs": [],
   "source": []
  },
  {
   "cell_type": "markdown",
   "metadata": {
    "collapsed": false,
    "jupyter": {
     "outputs_hidden": false
    }
   },
   "source": [
    "Stop Spark session:"
   ]
  },
  {
   "cell_type": "code",
   "execution_count": 17,
   "metadata": {
    "collapsed": false,
    "jupyter": {
     "outputs_hidden": false
    }
   },
   "outputs": [],
   "source": [
    "spark.stop()"
   ]
  },
  {
   "cell_type": "code",
   "execution_count": null,
   "metadata": {},
   "outputs": [],
   "source": []
  }
 ],
 "metadata": {
  "kernelspec": {
   "display_name": "Python 3 (ipykernel)",
   "language": "python",
   "name": "python3"
  },
  "language_info": {
   "codemirror_mode": {
    "name": "ipython",
    "version": 3
   },
   "file_extension": ".py",
   "mimetype": "text/x-python",
   "name": "python",
   "nbconvert_exporter": "python",
   "pygments_lexer": "ipython3",
   "version": "3.12.2"
  }
 },
 "nbformat": 4,
 "nbformat_minor": 4
}
